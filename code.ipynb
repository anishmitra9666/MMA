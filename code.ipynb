{
 "cells": [
  {
   "cell_type": "code",
   "execution_count": 1,
   "metadata": {},
   "outputs": [],
   "source": [
    "import numpy as np \n",
    "import polars as pl\n"
   ]
  },
  {
   "cell_type": "code",
   "execution_count": 3,
   "metadata": {},
   "outputs": [],
   "source": [
    "df = pl.read_csv(r\"C:\\Users\\gbore\\Downloads\\MMA\\ufc.csv\")"
   ]
  },
  {
   "cell_type": "code",
   "execution_count": 4,
   "metadata": {},
   "outputs": [
    {
     "data": {
      "text/html": [
       "<div><style>\n",
       ".dataframe > thead > tr > th,\n",
       ".dataframe > tbody > tr > td {\n",
       "  text-align: right;\n",
       "}\n",
       "</style>\n",
       "<small>shape: (5, 144)</small><table border=\"1\" class=\"dataframe\"><thead><tr><th>R_fighter</th><th>B_fighter</th><th>Referee</th><th>date</th><th>location</th><th>Winner</th><th>title_bout</th><th>weight_class</th><th>B_avg_KD</th><th>B_avg_opp_KD</th><th>B_avg_SIG_STR_pct</th><th>B_avg_opp_SIG_STR_pct</th><th>B_avg_TD_pct</th><th>B_avg_opp_TD_pct</th><th>B_avg_SUB_ATT</th><th>B_avg_opp_SUB_ATT</th><th>B_avg_REV</th><th>B_avg_opp_REV</th><th>B_avg_SIG_STR_att</th><th>B_avg_SIG_STR_landed</th><th>B_avg_opp_SIG_STR_att</th><th>B_avg_opp_SIG_STR_landed</th><th>B_avg_TOTAL_STR_att</th><th>B_avg_TOTAL_STR_landed</th><th>B_avg_opp_TOTAL_STR_att</th><th>B_avg_opp_TOTAL_STR_landed</th><th>B_avg_TD_att</th><th>B_avg_TD_landed</th><th>B_avg_opp_TD_att</th><th>B_avg_opp_TD_landed</th><th>B_avg_HEAD_att</th><th>B_avg_HEAD_landed</th><th>B_avg_opp_HEAD_att</th><th>B_avg_opp_HEAD_landed</th><th>B_avg_BODY_att</th><th>B_avg_BODY_landed</th><th>B_avg_opp_BODY_att</th><th>&hellip;</th><th>R_avg_opp_LEG_att</th><th>R_avg_opp_LEG_landed</th><th>R_avg_DISTANCE_att</th><th>R_avg_DISTANCE_landed</th><th>R_avg_opp_DISTANCE_att</th><th>R_avg_opp_DISTANCE_landed</th><th>R_avg_CLINCH_att</th><th>R_avg_CLINCH_landed</th><th>R_avg_opp_CLINCH_att</th><th>R_avg_opp_CLINCH_landed</th><th>R_avg_GROUND_att</th><th>R_avg_GROUND_landed</th><th>R_avg_opp_GROUND_att</th><th>R_avg_opp_GROUND_landed</th><th>R_avg_CTRL_time(seconds)</th><th>R_avg_opp_CTRL_time(seconds)</th><th>R_total_time_fought(seconds)</th><th>R_total_rounds_fought</th><th>R_total_title_bouts</th><th>R_current_win_streak</th><th>R_current_lose_streak</th><th>R_longest_win_streak</th><th>R_wins</th><th>R_losses</th><th>R_draw</th><th>R_win_by_Decision_Majority</th><th>R_win_by_Decision_Split</th><th>R_win_by_Decision_Unanimous</th><th>R_win_by_KO/TKO</th><th>R_win_by_Submission</th><th>R_win_by_TKO_Doctor_Stoppage</th><th>R_Stance</th><th>R_Height_cms</th><th>R_Reach_cms</th><th>R_Weight_lbs</th><th>B_age</th><th>R_age</th></tr><tr><td>str</td><td>str</td><td>str</td><td>str</td><td>str</td><td>str</td><td>bool</td><td>str</td><td>f64</td><td>f64</td><td>f64</td><td>f64</td><td>f64</td><td>f64</td><td>f64</td><td>f64</td><td>f64</td><td>f64</td><td>f64</td><td>f64</td><td>f64</td><td>f64</td><td>f64</td><td>f64</td><td>f64</td><td>f64</td><td>f64</td><td>f64</td><td>f64</td><td>f64</td><td>f64</td><td>f64</td><td>f64</td><td>f64</td><td>f64</td><td>f64</td><td>f64</td><td>&hellip;</td><td>f64</td><td>f64</td><td>f64</td><td>f64</td><td>f64</td><td>f64</td><td>f64</td><td>f64</td><td>f64</td><td>f64</td><td>f64</td><td>f64</td><td>f64</td><td>f64</td><td>f64</td><td>f64</td><td>f64</td><td>i64</td><td>i64</td><td>i64</td><td>i64</td><td>i64</td><td>i64</td><td>i64</td><td>i64</td><td>i64</td><td>i64</td><td>i64</td><td>i64</td><td>i64</td><td>i64</td><td>str</td><td>f64</td><td>f64</td><td>f64</td><td>f64</td><td>f64</td></tr></thead><tbody><tr><td>&quot;Adrian Yanez&quot;</td><td>&quot;Gustavo Lopez&quot;</td><td>&quot;Chris Tognoni&quot;</td><td>&quot;2021-03-20&quot;</td><td>&quot;Las Vegas, Nev…</td><td>&quot;Red&quot;</td><td>false</td><td>&quot;Bantamweight&quot;</td><td>0.0</td><td>0.0</td><td>0.42</td><td>0.495</td><td>0.33</td><td>0.36</td><td>0.5</td><td>1.0</td><td>0.0</td><td>0.0</td><td>50.0</td><td>20.0</td><td>84.0</td><td>45.0</td><td>76.5</td><td>41.0</td><td>114.0</td><td>64.0</td><td>1.5</td><td>1.0</td><td>9.0</td><td>6.5</td><td>39.5</td><td>11.0</td><td>63.0</td><td>27.5</td><td>7.5</td><td>7.0</td><td>12.0</td><td>&hellip;</td><td>0.0</td><td>0.0</td><td>33.0</td><td>16.0</td><td>12.0</td><td>6.0</td><td>1.0</td><td>1.0</td><td>1.0</td><td>0.0</td><td>0.0</td><td>0.0</td><td>0.0</td><td>0.0</td><td>5.0</td><td>54.0</td><td>166.0</td><td>1</td><td>0</td><td>1</td><td>0</td><td>1</td><td>1</td><td>0</td><td>0</td><td>0</td><td>0</td><td>0</td><td>1</td><td>0</td><td>0</td><td>&quot;Orthodox&quot;</td><td>170.18</td><td>177.8</td><td>135.0</td><td>31.0</td><td>27.0</td></tr><tr><td>&quot;Trevin Giles&quot;</td><td>&quot;Roman Dolidze&quot;</td><td>&quot;Herb Dean&quot;</td><td>&quot;2021-03-20&quot;</td><td>&quot;Las Vegas, Nev…</td><td>&quot;Red&quot;</td><td>false</td><td>&quot;Middleweight&quot;</td><td>0.5</td><td>0.0</td><td>0.66</td><td>0.305</td><td>0.3</td><td>0.5</td><td>1.5</td><td>0.0</td><td>0.0</td><td>0.0</td><td>65.5</td><td>35.0</td><td>50.0</td><td>16.5</td><td>113.5</td><td>68.5</td><td>68.5</td><td>29.0</td><td>2.5</td><td>1.5</td><td>0.5</td><td>0.5</td><td>46.0</td><td>20.0</td><td>36.0</td><td>7.5</td><td>12.0</td><td>8.0</td><td>8.0</td><td>&hellip;</td><td>9.65625</td><td>8.09375</td><td>58.3125</td><td>30.4375</td><td>63.3125</td><td>23.125</td><td>6.96875</td><td>3.65625</td><td>5.0</td><td>4.125</td><td>12.28125</td><td>9.0625</td><td>0.84375</td><td>0.34375</td><td>176.15625</td><td>154.6875</td><td>747.34375</td><td>17</td><td>0</td><td>2</td><td>0</td><td>2</td><td>4</td><td>2</td><td>0</td><td>0</td><td>1</td><td>0</td><td>3</td><td>0</td><td>0</td><td>&quot;Orthodox&quot;</td><td>182.88</td><td>187.96</td><td>185.0</td><td>32.0</td><td>28.0</td></tr><tr><td>&quot;Tai Tuivasa&quot;</td><td>&quot;Harry Hunsucke…</td><td>&quot;Herb Dean&quot;</td><td>&quot;2021-03-20&quot;</td><td>&quot;Las Vegas, Nev…</td><td>&quot;Red&quot;</td><td>false</td><td>&quot;Heavyweight&quot;</td><td>null</td><td>null</td><td>null</td><td>null</td><td>null</td><td>null</td><td>null</td><td>null</td><td>null</td><td>null</td><td>null</td><td>null</td><td>null</td><td>null</td><td>null</td><td>null</td><td>null</td><td>null</td><td>null</td><td>null</td><td>null</td><td>null</td><td>null</td><td>null</td><td>null</td><td>null</td><td>null</td><td>null</td><td>null</td><td>&hellip;</td><td>3.390625</td><td>3.140625</td><td>45.875</td><td>20.28125</td><td>36.34375</td><td>18.6875</td><td>11.328125</td><td>8.5625</td><td>1.4375</td><td>1.171875</td><td>2.03125</td><td>1.53125</td><td>6.03125</td><td>4.9375</td><td>82.453125</td><td>89.78125</td><td>448.203125</td><td>13</td><td>0</td><td>3</td><td>0</td><td>3</td><td>4</td><td>3</td><td>0</td><td>0</td><td>0</td><td>1</td><td>3</td><td>0</td><td>0</td><td>&quot;Southpaw&quot;</td><td>187.96</td><td>190.5</td><td>264.0</td><td>32.0</td><td>28.0</td></tr><tr><td>&quot;Cheyanne Buys&quot;</td><td>&quot;Montserrat Con…</td><td>&quot;Mark Smith&quot;</td><td>&quot;2021-03-20&quot;</td><td>&quot;Las Vegas, Nev…</td><td>&quot;Blue&quot;</td><td>false</td><td>&quot;WomenStrawweig…</td><td>null</td><td>null</td><td>null</td><td>null</td><td>null</td><td>null</td><td>null</td><td>null</td><td>null</td><td>null</td><td>null</td><td>null</td><td>null</td><td>null</td><td>null</td><td>null</td><td>null</td><td>null</td><td>null</td><td>null</td><td>null</td><td>null</td><td>null</td><td>null</td><td>null</td><td>null</td><td>null</td><td>null</td><td>null</td><td>&hellip;</td><td>null</td><td>null</td><td>null</td><td>null</td><td>null</td><td>null</td><td>null</td><td>null</td><td>null</td><td>null</td><td>null</td><td>null</td><td>null</td><td>null</td><td>null</td><td>null</td><td>null</td><td>0</td><td>0</td><td>0</td><td>0</td><td>0</td><td>0</td><td>0</td><td>0</td><td>0</td><td>0</td><td>0</td><td>0</td><td>0</td><td>0</td><td>&quot;Switch&quot;</td><td>160.02</td><td>160.02</td><td>115.0</td><td>28.0</td><td>25.0</td></tr><tr><td>&quot;Marion Reneau&quot;</td><td>&quot;Macy Chiasson&quot;</td><td>&quot;Mark Smith&quot;</td><td>&quot;2021-03-20&quot;</td><td>&quot;Las Vegas, Nev…</td><td>&quot;Blue&quot;</td><td>false</td><td>&quot;WomenBantamwei…</td><td>0.125</td><td>0.0</td><td>0.535625</td><td>0.57875</td><td>0.185</td><td>0.16625</td><td>0.125</td><td>0.1875</td><td>0.25</td><td>0.0</td><td>109.1875</td><td>57.9375</td><td>50.625</td><td>28.4375</td><td>170.4375</td><td>105.625</td><td>74.375</td><td>44.25</td><td>5.375</td><td>1.5</td><td>2.0</td><td>0.625</td><td>77.375</td><td>31.375</td><td>41.5625</td><td>22.625</td><td>31.1875</td><td>26.1875</td><td>7.6875</td><td>&hellip;</td><td>16.90332</td><td>14.203125</td><td>85.845703</td><td>27.907227</td><td>106.913086</td><td>48.479492</td><td>18.996094</td><td>13.970703</td><td>35.3125</td><td>32.05957</td><td>4.489258</td><td>2.484375</td><td>6.621094</td><td>4.015625</td><td>141.285156</td><td>310.152344</td><td>874.380859</td><td>30</td><td>0</td><td>2</td><td>0</td><td>2</td><td>5</td><td>6</td><td>0</td><td>0</td><td>0</td><td>1</td><td>2</td><td>2</td><td>0</td><td>&quot;Orthodox&quot;</td><td>167.64</td><td>172.72</td><td>135.0</td><td>29.0</td><td>43.0</td></tr></tbody></table></div>"
      ],
      "text/plain": [
       "shape: (5, 144)\n",
       "┌─────────────┬─────────────┬────────────┬────────────┬───┬───────────┬────────────┬───────┬───────┐\n",
       "│ R_fighter   ┆ B_fighter   ┆ Referee    ┆ date       ┆ … ┆ R_Reach_c ┆ R_Weight_l ┆ B_age ┆ R_age │\n",
       "│ ---         ┆ ---         ┆ ---        ┆ ---        ┆   ┆ ms        ┆ bs         ┆ ---   ┆ ---   │\n",
       "│ str         ┆ str         ┆ str        ┆ str        ┆   ┆ ---       ┆ ---        ┆ f64   ┆ f64   │\n",
       "│             ┆             ┆            ┆            ┆   ┆ f64       ┆ f64        ┆       ┆       │\n",
       "╞═════════════╪═════════════╪════════════╪════════════╪═══╪═══════════╪════════════╪═══════╪═══════╡\n",
       "│ Adrian      ┆ Gustavo     ┆ Chris      ┆ 2021-03-20 ┆ … ┆ 177.8     ┆ 135.0      ┆ 31.0  ┆ 27.0  │\n",
       "│ Yanez       ┆ Lopez       ┆ Tognoni    ┆            ┆   ┆           ┆            ┆       ┆       │\n",
       "│ Trevin      ┆ Roman       ┆ Herb Dean  ┆ 2021-03-20 ┆ … ┆ 187.96    ┆ 185.0      ┆ 32.0  ┆ 28.0  │\n",
       "│ Giles       ┆ Dolidze     ┆            ┆            ┆   ┆           ┆            ┆       ┆       │\n",
       "│ Tai Tuivasa ┆ Harry       ┆ Herb Dean  ┆ 2021-03-20 ┆ … ┆ 190.5     ┆ 264.0      ┆ 32.0  ┆ 28.0  │\n",
       "│             ┆ Hunsucker   ┆            ┆            ┆   ┆           ┆            ┆       ┆       │\n",
       "│ Cheyanne    ┆ Montserrat  ┆ Mark Smith ┆ 2021-03-20 ┆ … ┆ 160.02    ┆ 115.0      ┆ 28.0  ┆ 25.0  │\n",
       "│ Buys        ┆ Conejo      ┆            ┆            ┆   ┆           ┆            ┆       ┆       │\n",
       "│ Marion      ┆ Macy        ┆ Mark Smith ┆ 2021-03-20 ┆ … ┆ 172.72    ┆ 135.0      ┆ 29.0  ┆ 43.0  │\n",
       "│ Reneau      ┆ Chiasson    ┆            ┆            ┆   ┆           ┆            ┆       ┆       │\n",
       "└─────────────┴─────────────┴────────────┴────────────┴───┴───────────┴────────────┴───────┴───────┘"
      ]
     },
     "execution_count": 4,
     "metadata": {},
     "output_type": "execute_result"
    }
   ],
   "source": [
    "df.head()"
   ]
  },
  {
   "cell_type": "code",
   "execution_count": 5,
   "metadata": {},
   "outputs": [
    {
     "data": {
      "text/html": [
       "<div><style>\n",
       ".dataframe > thead > tr > th,\n",
       ".dataframe > tbody > tr > td {\n",
       "  text-align: right;\n",
       "}\n",
       "</style>\n",
       "<small>shape: (5, 144)</small><table border=\"1\" class=\"dataframe\"><thead><tr><th>R_fighter</th><th>B_fighter</th><th>Referee</th><th>date</th><th>location</th><th>Winner</th><th>title_bout</th><th>weight_class</th><th>B_avg_KD</th><th>B_avg_opp_KD</th><th>B_avg_SIG_STR_pct</th><th>B_avg_opp_SIG_STR_pct</th><th>B_avg_TD_pct</th><th>B_avg_opp_TD_pct</th><th>B_avg_SUB_ATT</th><th>B_avg_opp_SUB_ATT</th><th>B_avg_REV</th><th>B_avg_opp_REV</th><th>B_avg_SIG_STR_att</th><th>B_avg_SIG_STR_landed</th><th>B_avg_opp_SIG_STR_att</th><th>B_avg_opp_SIG_STR_landed</th><th>B_avg_TOTAL_STR_att</th><th>B_avg_TOTAL_STR_landed</th><th>B_avg_opp_TOTAL_STR_att</th><th>B_avg_opp_TOTAL_STR_landed</th><th>B_avg_TD_att</th><th>B_avg_TD_landed</th><th>B_avg_opp_TD_att</th><th>B_avg_opp_TD_landed</th><th>B_avg_HEAD_att</th><th>B_avg_HEAD_landed</th><th>B_avg_opp_HEAD_att</th><th>B_avg_opp_HEAD_landed</th><th>B_avg_BODY_att</th><th>B_avg_BODY_landed</th><th>B_avg_opp_BODY_att</th><th>&hellip;</th><th>R_avg_opp_LEG_att</th><th>R_avg_opp_LEG_landed</th><th>R_avg_DISTANCE_att</th><th>R_avg_DISTANCE_landed</th><th>R_avg_opp_DISTANCE_att</th><th>R_avg_opp_DISTANCE_landed</th><th>R_avg_CLINCH_att</th><th>R_avg_CLINCH_landed</th><th>R_avg_opp_CLINCH_att</th><th>R_avg_opp_CLINCH_landed</th><th>R_avg_GROUND_att</th><th>R_avg_GROUND_landed</th><th>R_avg_opp_GROUND_att</th><th>R_avg_opp_GROUND_landed</th><th>R_avg_CTRL_time(seconds)</th><th>R_avg_opp_CTRL_time(seconds)</th><th>R_total_time_fought(seconds)</th><th>R_total_rounds_fought</th><th>R_total_title_bouts</th><th>R_current_win_streak</th><th>R_current_lose_streak</th><th>R_longest_win_streak</th><th>R_wins</th><th>R_losses</th><th>R_draw</th><th>R_win_by_Decision_Majority</th><th>R_win_by_Decision_Split</th><th>R_win_by_Decision_Unanimous</th><th>R_win_by_KO/TKO</th><th>R_win_by_Submission</th><th>R_win_by_TKO_Doctor_Stoppage</th><th>R_Stance</th><th>R_Height_cms</th><th>R_Reach_cms</th><th>R_Weight_lbs</th><th>B_age</th><th>R_age</th></tr><tr><td>str</td><td>str</td><td>str</td><td>str</td><td>str</td><td>str</td><td>bool</td><td>str</td><td>f64</td><td>f64</td><td>f64</td><td>f64</td><td>f64</td><td>f64</td><td>f64</td><td>f64</td><td>f64</td><td>f64</td><td>f64</td><td>f64</td><td>f64</td><td>f64</td><td>f64</td><td>f64</td><td>f64</td><td>f64</td><td>f64</td><td>f64</td><td>f64</td><td>f64</td><td>f64</td><td>f64</td><td>f64</td><td>f64</td><td>f64</td><td>f64</td><td>f64</td><td>&hellip;</td><td>f64</td><td>f64</td><td>f64</td><td>f64</td><td>f64</td><td>f64</td><td>f64</td><td>f64</td><td>f64</td><td>f64</td><td>f64</td><td>f64</td><td>f64</td><td>f64</td><td>f64</td><td>f64</td><td>f64</td><td>i64</td><td>i64</td><td>i64</td><td>i64</td><td>i64</td><td>i64</td><td>i64</td><td>i64</td><td>i64</td><td>i64</td><td>i64</td><td>i64</td><td>i64</td><td>i64</td><td>str</td><td>f64</td><td>f64</td><td>f64</td><td>f64</td><td>f64</td></tr></thead><tbody><tr><td>&quot;Remco Pardoel&quot;</td><td>&quot;Alberta Cerra …</td><td>&quot;John McCarthy&quot;</td><td>&quot;1994-03-11&quot;</td><td>&quot;Denver, Colora…</td><td>&quot;Red&quot;</td><td>false</td><td>&quot;OpenWeight&quot;</td><td>null</td><td>null</td><td>null</td><td>null</td><td>null</td><td>null</td><td>null</td><td>null</td><td>null</td><td>null</td><td>null</td><td>null</td><td>null</td><td>null</td><td>null</td><td>null</td><td>null</td><td>null</td><td>null</td><td>null</td><td>null</td><td>null</td><td>null</td><td>null</td><td>null</td><td>null</td><td>null</td><td>null</td><td>null</td><td>&hellip;</td><td>null</td><td>null</td><td>null</td><td>null</td><td>null</td><td>null</td><td>null</td><td>null</td><td>null</td><td>null</td><td>null</td><td>null</td><td>null</td><td>null</td><td>null</td><td>null</td><td>null</td><td>0</td><td>0</td><td>0</td><td>0</td><td>0</td><td>0</td><td>0</td><td>0</td><td>0</td><td>0</td><td>0</td><td>0</td><td>0</td><td>0</td><td>&quot;Southpaw&quot;</td><td>190.5</td><td>null</td><td>260.0</td><td>null</td><td>null</td></tr><tr><td>&quot;Orlando Wiet&quot;</td><td>&quot;Robert Lucarel…</td><td>&quot;John McCarthy&quot;</td><td>&quot;1994-03-11&quot;</td><td>&quot;Denver, Colora…</td><td>&quot;Red&quot;</td><td>false</td><td>&quot;OpenWeight&quot;</td><td>null</td><td>null</td><td>null</td><td>null</td><td>null</td><td>null</td><td>null</td><td>null</td><td>null</td><td>null</td><td>null</td><td>null</td><td>null</td><td>null</td><td>null</td><td>null</td><td>null</td><td>null</td><td>null</td><td>null</td><td>null</td><td>null</td><td>null</td><td>null</td><td>null</td><td>null</td><td>null</td><td>null</td><td>null</td><td>&hellip;</td><td>null</td><td>null</td><td>null</td><td>null</td><td>null</td><td>null</td><td>null</td><td>null</td><td>null</td><td>null</td><td>null</td><td>null</td><td>null</td><td>null</td><td>null</td><td>null</td><td>null</td><td>0</td><td>0</td><td>0</td><td>0</td><td>0</td><td>0</td><td>0</td><td>0</td><td>0</td><td>0</td><td>0</td><td>0</td><td>0</td><td>0</td><td>&quot;Southpaw&quot;</td><td>177.8</td><td>null</td><td>170.0</td><td>null</td><td>null</td></tr><tr><td>&quot;Johnny Rhodes&quot;</td><td>&quot;David Levicki&quot;</td><td>&quot;John McCarthy&quot;</td><td>&quot;1994-03-11&quot;</td><td>&quot;Denver, Colora…</td><td>&quot;Red&quot;</td><td>false</td><td>&quot;OpenWeight&quot;</td><td>null</td><td>null</td><td>null</td><td>null</td><td>null</td><td>null</td><td>null</td><td>null</td><td>null</td><td>null</td><td>null</td><td>null</td><td>null</td><td>null</td><td>null</td><td>null</td><td>null</td><td>null</td><td>null</td><td>null</td><td>null</td><td>null</td><td>null</td><td>null</td><td>null</td><td>null</td><td>null</td><td>null</td><td>null</td><td>&hellip;</td><td>null</td><td>null</td><td>null</td><td>null</td><td>null</td><td>null</td><td>null</td><td>null</td><td>null</td><td>null</td><td>null</td><td>null</td><td>null</td><td>null</td><td>null</td><td>null</td><td>null</td><td>0</td><td>0</td><td>0</td><td>0</td><td>0</td><td>0</td><td>0</td><td>0</td><td>0</td><td>0</td><td>0</td><td>0</td><td>0</td><td>0</td><td>&quot;Orthodox&quot;</td><td>182.88</td><td>null</td><td>210.0</td><td>null</td><td>null</td></tr><tr><td>&quot;Patrick Smith&quot;</td><td>&quot;Ray Wizard&quot;</td><td>&quot;John McCarthy&quot;</td><td>&quot;1994-03-11&quot;</td><td>&quot;Denver, Colora…</td><td>&quot;Red&quot;</td><td>false</td><td>&quot;OpenWeight&quot;</td><td>null</td><td>null</td><td>null</td><td>null</td><td>null</td><td>null</td><td>null</td><td>null</td><td>null</td><td>null</td><td>null</td><td>null</td><td>null</td><td>null</td><td>null</td><td>null</td><td>null</td><td>null</td><td>null</td><td>null</td><td>null</td><td>null</td><td>null</td><td>null</td><td>null</td><td>null</td><td>null</td><td>null</td><td>null</td><td>&hellip;</td><td>null</td><td>null</td><td>null</td><td>null</td><td>null</td><td>null</td><td>null</td><td>null</td><td>null</td><td>null</td><td>null</td><td>null</td><td>null</td><td>null</td><td>null</td><td>null</td><td>null</td><td>0</td><td>0</td><td>0</td><td>0</td><td>0</td><td>0</td><td>0</td><td>0</td><td>0</td><td>0</td><td>0</td><td>0</td><td>0</td><td>0</td><td>&quot;Orthodox&quot;</td><td>187.96</td><td>null</td><td>225.0</td><td>null</td><td>30.0</td></tr><tr><td>&quot;Scott Morris&quot;</td><td>&quot;Sean Daugherty…</td><td>&quot;John McCarthy&quot;</td><td>&quot;1994-03-11&quot;</td><td>&quot;Denver, Colora…</td><td>&quot;Red&quot;</td><td>false</td><td>&quot;OpenWeight&quot;</td><td>null</td><td>null</td><td>null</td><td>null</td><td>null</td><td>null</td><td>null</td><td>null</td><td>null</td><td>null</td><td>null</td><td>null</td><td>null</td><td>null</td><td>null</td><td>null</td><td>null</td><td>null</td><td>null</td><td>null</td><td>null</td><td>null</td><td>null</td><td>null</td><td>null</td><td>null</td><td>null</td><td>null</td><td>null</td><td>&hellip;</td><td>null</td><td>null</td><td>null</td><td>null</td><td>null</td><td>null</td><td>null</td><td>null</td><td>null</td><td>null</td><td>null</td><td>null</td><td>null</td><td>null</td><td>null</td><td>null</td><td>null</td><td>0</td><td>0</td><td>0</td><td>0</td><td>0</td><td>0</td><td>0</td><td>0</td><td>0</td><td>0</td><td>0</td><td>0</td><td>0</td><td>0</td><td>&quot;Orthodox&quot;</td><td>177.8</td><td>null</td><td>210.0</td><td>18.0</td><td>null</td></tr></tbody></table></div>"
      ],
      "text/plain": [
       "shape: (5, 144)\n",
       "┌─────────────┬─────────────┬────────────┬────────────┬───┬───────────┬────────────┬───────┬───────┐\n",
       "│ R_fighter   ┆ B_fighter   ┆ Referee    ┆ date       ┆ … ┆ R_Reach_c ┆ R_Weight_l ┆ B_age ┆ R_age │\n",
       "│ ---         ┆ ---         ┆ ---        ┆ ---        ┆   ┆ ms        ┆ bs         ┆ ---   ┆ ---   │\n",
       "│ str         ┆ str         ┆ str        ┆ str        ┆   ┆ ---       ┆ ---        ┆ f64   ┆ f64   │\n",
       "│             ┆             ┆            ┆            ┆   ┆ f64       ┆ f64        ┆       ┆       │\n",
       "╞═════════════╪═════════════╪════════════╪════════════╪═══╪═══════════╪════════════╪═══════╪═══════╡\n",
       "│ Remco       ┆ Alberta     ┆ John       ┆ 1994-03-11 ┆ … ┆ null      ┆ 260.0      ┆ null  ┆ null  │\n",
       "│ Pardoel     ┆ Cerra Leon  ┆ McCarthy   ┆            ┆   ┆           ┆            ┆       ┆       │\n",
       "│ Orlando     ┆ Robert      ┆ John       ┆ 1994-03-11 ┆ … ┆ null      ┆ 170.0      ┆ null  ┆ null  │\n",
       "│ Wiet        ┆ Lucarelli   ┆ McCarthy   ┆            ┆   ┆           ┆            ┆       ┆       │\n",
       "│ Johnny      ┆ David       ┆ John       ┆ 1994-03-11 ┆ … ┆ null      ┆ 210.0      ┆ null  ┆ null  │\n",
       "│ Rhodes      ┆ Levicki     ┆ McCarthy   ┆            ┆   ┆           ┆            ┆       ┆       │\n",
       "│ Patrick     ┆ Ray Wizard  ┆ John       ┆ 1994-03-11 ┆ … ┆ null      ┆ 225.0      ┆ null  ┆ 30.0  │\n",
       "│ Smith       ┆             ┆ McCarthy   ┆            ┆   ┆           ┆            ┆       ┆       │\n",
       "│ Scott       ┆ Sean        ┆ John       ┆ 1994-03-11 ┆ … ┆ null      ┆ 210.0      ┆ 18.0  ┆ null  │\n",
       "│ Morris      ┆ Daugherty   ┆ McCarthy   ┆            ┆   ┆           ┆            ┆       ┆       │\n",
       "└─────────────┴─────────────┴────────────┴────────────┴───┴───────────┴────────────┴───────┴───────┘"
      ]
     },
     "execution_count": 5,
     "metadata": {},
     "output_type": "execute_result"
    }
   ],
   "source": [
    "df.tail()"
   ]
  }
 ],
 "metadata": {
  "kernelspec": {
   "display_name": "base",
   "language": "python",
   "name": "python3"
  },
  "language_info": {
   "codemirror_mode": {
    "name": "ipython",
    "version": 3
   },
   "file_extension": ".py",
   "mimetype": "text/x-python",
   "name": "python",
   "nbconvert_exporter": "python",
   "pygments_lexer": "ipython3",
   "version": "3.9.7"
  },
  "orig_nbformat": 4
 },
 "nbformat": 4,
 "nbformat_minor": 2
}
